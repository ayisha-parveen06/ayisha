{
  "nbformat": 4,
  "nbformat_minor": 0,
  "metadata": {
    "colab": {
      "provenance": [],
      "include_colab_link": true
    },
    "kernelspec": {
      "name": "python3",
      "display_name": "Python 3"
    },
    "language_info": {
      "name": "python"
    }
  },
  "cells": [
    {
      "cell_type": "markdown",
      "metadata": {
        "id": "view-in-github",
        "colab_type": "text"
      },
      "source": [
        "<a href=\"https://colab.research.google.com/github/ayisha-parveen06/ayisha/blob/main/Nm_phase5_A.ipynb\" target=\"_parent\"><img src=\"https://colab.research.google.com/assets/colab-badge.svg\" alt=\"Open In Colab\"/></a>"
      ]
    },
    {
      "cell_type": "code",
      "execution_count": null,
      "metadata": {
        "colab": {
          "base_uri": "https://localhost:8080/"
        },
        "id": "bOwkPlz-nsej",
        "outputId": "7fc3be8c-0891-45a2-8923-88451d686e37"
      },
      "outputs": [
        {
          "output_type": "stream",
          "name": "stdout",
          "text": [
            "Welcome to the Healthcare Diagnostic System\n",
            "Enter your symptoms (comma separated): \n",
            "Fever,cold\n",
            "\n",
            "--- Diagnosis Result ---\n",
            "Disease: Flu\n",
            "Confidence: 25.00%\n",
            "Suggested Treatment: Rest, hydration, and antiviral medication if severe.\n"
          ]
        }
      ],
      "source": [
        "# healthcare_diagnostic.py\n",
        "\n",
        "def get_diagnosis(symptoms):\n",
        "    disease_database = {\n",
        "        \"Flu\": {\n",
        "            \"symptoms\": [\"fever\", \"cough\", \"sore throat\", \"body ache\"],\n",
        "            \"treatment\": \"Rest, hydration, and antiviral medication if severe.\"\n",
        "        },\n",
        "        \"Common Cold\": {\n",
        "            \"symptoms\": [\"sneezing\", \"stuffy nose\", \"sore throat\", \"mild cough\"],\n",
        "            \"treatment\": \"Rest, fluids, and over-the-counter cold remedies.\"\n",
        "        },\n",
        "        \"Malaria\": {\n",
        "            \"symptoms\": [\"fever\", \"chills\", \"sweating\", \"headache\", \"nausea\"],\n",
        "            \"treatment\": \"Antimalarial drugs prescribed by a physician.\"\n",
        "        },\n",
        "        \"COVID-19\": {\n",
        "            \"symptoms\": [\"fever\", \"dry cough\", \"fatigue\", \"loss of taste\", \"breathlessness\"],\n",
        "            \"treatment\": \"Isolation, rest, fever reducers, and medical supervision if symptoms worsen.\"\n",
        "        }\n",
        "    }\n",
        "\n",
        "    match_scores = {}\n",
        "    for disease, info in disease_database.items():\n",
        "        match_count = len(set(symptoms).intersection(info[\"symptoms\"]))\n",
        "        match_scores[disease] = match_count\n",
        "\n",
        "    best_match = max(match_scores, key=match_scores.get)\n",
        "    confidence = (match_scores[best_match] / len(disease_database[best_match][\"symptoms\"])) * 100\n",
        "\n",
        "    return {\n",
        "        \"disease\": best_match,\n",
        "        \"confidence\": confidence,\n",
        "        \"treatment\": disease_database[best_match][\"treatment\"]\n",
        "    }\n",
        "\n",
        "def main():\n",
        "    print(\"Welcome to the Healthcare Diagnostic System\")\n",
        "    print(\"Enter your symptoms (comma separated): \")\n",
        "    user_input = input().lower()\n",
        "    symptoms = [s.strip() for s in user_input.split(',')]\n",
        "\n",
        "    result = get_diagnosis(symptoms)\n",
        "\n",
        "    print(\"\\n--- Diagnosis Result ---\")\n",
        "    print(f\"Disease: {result['disease']}\")\n",
        "    print(f\"Confidence: {result['confidence']:.2f}%\")\n",
        "    print(f\"Suggested Treatment: {result['treatment']}\")\n",
        "\n",
        "if __name__ == \"__main__\":\n",
        "    main()"
      ]
    }
  ]
}